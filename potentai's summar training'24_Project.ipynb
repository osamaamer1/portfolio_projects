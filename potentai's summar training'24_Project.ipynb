{
 "cells": [
  {
   "cell_type": "code",
   "execution_count": 54,
   "id": "f8647745",
   "metadata": {},
   "outputs": [],
   "source": [
    "# install"
   ]
  },
  {
   "cell_type": "code",
   "execution_count": 1,
   "id": "fbc414b2",
   "metadata": {},
   "outputs": [],
   "source": [
    "# pip install --upgrade pyspark"
   ]
  },
  {
   "cell_type": "code",
   "execution_count": 2,
   "id": "7572f085",
   "metadata": {},
   "outputs": [
    {
     "name": "stdout",
     "output_type": "stream",
     "text": [
      "3.5.2\n"
     ]
    }
   ],
   "source": [
    "import pyspark\n",
    "print(pyspark.__version__)"
   ]
  },
  {
   "cell_type": "code",
   "execution_count": 4,
   "id": "14b05d54",
   "metadata": {},
   "outputs": [],
   "source": [
    "from pyspark.sql import SparkSession\n",
    "from pyspark.sql import functions as F"
   ]
  },
  {
   "cell_type": "markdown",
   "id": "7286aa34",
   "metadata": {},
   "source": [
    "# initializes a SparkSession. To interact with Spark's functionality."
   ]
  },
  {
   "cell_type": "code",
   "execution_count": 5,
   "id": "96b8be9b",
   "metadata": {},
   "outputs": [],
   "source": [
    "spark = SparkSession.builder.appName(\"Data Analysis\").getOrCreate()"
   ]
  },
  {
   "cell_type": "markdown",
   "id": "57ec9292",
   "metadata": {},
   "source": [
    "# Read the CSVs Files"
   ]
  },
  {
   "cell_type": "code",
   "execution_count": 6,
   "id": "bab3545c",
   "metadata": {},
   "outputs": [],
   "source": [
    "bridge_cust_loan_df=  spark.read.csv('bridge_cust_loan.csv', header=True, inferSchema=True)"
   ]
  },
  {
   "cell_type": "code",
   "execution_count": 7,
   "id": "633bd8fe",
   "metadata": {},
   "outputs": [],
   "source": [
    "customers_df=spark.read.csv('customers.csv', header=True, inferSchema=True)"
   ]
  },
  {
   "cell_type": "code",
   "execution_count": 8,
   "id": "2f15211a",
   "metadata": {},
   "outputs": [],
   "source": [
    "loan_type_df= spark.read.csv('loan_type.csv', header=True, inferSchema=True)"
   ]
  },
  {
   "cell_type": "code",
   "execution_count": 9,
   "id": "42514f40",
   "metadata": {},
   "outputs": [],
   "source": [
    "time_dim_df=spark.read.csv('time_dim.csv', header=True, inferSchema=True)"
   ]
  },
  {
   "cell_type": "code",
   "execution_count": 10,
   "id": "f532bb47",
   "metadata": {},
   "outputs": [],
   "source": [
    "customer_financials_df= spark.read.csv('customer_financials.csv', header=True, inferSchema=True)"
   ]
  },
  {
   "cell_type": "markdown",
   "id": "6a1b566b",
   "metadata": {},
   "source": [
    "# simple show for data basic info"
   ]
  },
  {
   "cell_type": "code",
   "execution_count": 11,
   "id": "6a02e1c0",
   "metadata": {},
   "outputs": [
    {
     "name": "stdout",
     "output_type": "stream",
     "text": [
      "+------------+--------------------+\n",
      "|Loan_Type_ID|        Type_of_Loan|\n",
      "+------------+--------------------+\n",
      "|           1|           Auto Loan|\n",
      "|           2| Credit-Builder Loan|\n",
      "|           3|       Personal Loan|\n",
      "|           4|    Home Equity Loan|\n",
      "|           5|       Not Specified|\n",
      "|           6|       Not Specified|\n",
      "|           7|       Mortgage Loan|\n",
      "|           8|        Student Loan|\n",
      "|           9|Debt Consolidatio...|\n",
      "|          10|           Auto Loan|\n",
      "+------------+--------------------+\n",
      "only showing top 10 rows\n",
      "\n"
     ]
    }
   ],
   "source": [
    "customers_df.show(10)"
   ]
  },
  {
   "cell_type": "code",
   "execution_count": 12,
   "id": "8365e2b7",
   "metadata": {},
   "outputs": [
    {
     "name": "stdout",
     "output_type": "stream",
     "text": [
      "root\n",
      " |-- Loan_Type_ID: integer (nullable = true)\n",
      " |-- Type_of_Loan: string (nullable = true)\n",
      "\n",
      "root\n",
      " |-- Loan_Type_ID: integer (nullable = true)\n",
      " |-- Type_of_Loan: string (nullable = true)\n",
      "\n",
      "root\n",
      " |-- ID: integer (nullable = true)\n",
      " |-- Customer_ID: integer (nullable = true)\n",
      " |-- Month_ID: integer (nullable = true)\n",
      " |-- Annual_Income: double (nullable = true)\n",
      " |-- Monthly_Inhand_Salary: double (nullable = true)\n",
      " |-- Num_Bank_Accounts: integer (nullable = true)\n",
      " |-- Num_Credit_Card: integer (nullable = true)\n",
      " |-- Interest_Rate: integer (nullable = true)\n",
      " |-- Num_of_Loan: string (nullable = true)\n",
      " |-- Delay_from_due_date: integer (nullable = true)\n",
      " |-- Num_of_Delayed_Payment: double (nullable = true)\n",
      " |-- Num_Credit_Inquiries: double (nullable = true)\n",
      " |-- Outstanding_Debt: string (nullable = true)\n",
      " |-- Credit_Utilization_Ratio: double (nullable = true)\n",
      " |-- Total_EMI_per_month: double (nullable = true)\n",
      " |-- Amount_invested_monthly: double (nullable = true)\n",
      " |-- Monthly_Balance: double (nullable = true)\n",
      " |-- Credit_Score: string (nullable = true)\n",
      "\n",
      "root\n",
      " |-- Month_ID: integer (nullable = true)\n",
      " |-- Month: string (nullable = true)\n",
      "\n",
      "root\n",
      " |-- ID_B: integer (nullable = true)\n",
      " |-- Customer_ID: integer (nullable = true)\n",
      " |-- Loan_Type_ID: integer (nullable = true)\n",
      "\n"
     ]
    }
   ],
   "source": [
    "customers_df.printSchema()\n",
    "loan_type_df.printSchema()\n",
    "customer_financials_df.printSchema()\n",
    "time_dim_df.printSchema()\n",
    "bridge_cust_loan_df.printSchema()"
   ]
  },
  {
   "cell_type": "code",
   "execution_count": 13,
   "id": "986fd9ae",
   "metadata": {},
   "outputs": [
    {
     "name": "stdout",
     "output_type": "stream",
     "text": [
      "Number of customers: 18\n",
      "Number of loans: 18\n",
      "+-------+-----------------+------------+\n",
      "|summary|     Loan_Type_ID|Type_of_Loan|\n",
      "+-------+-----------------+------------+\n",
      "|  count|               18|          18|\n",
      "|   mean|              9.5|        NULL|\n",
      "| stddev|5.338539126015656|        NULL|\n",
      "|    min|                1|   Auto Loan|\n",
      "|    max|               18|Student Loan|\n",
      "+-------+-----------------+------------+\n",
      "\n",
      "+-------+-----------------+------------+\n",
      "|summary|     Loan_Type_ID|Type_of_Loan|\n",
      "+-------+-----------------+------------+\n",
      "|  count|               18|          18|\n",
      "|   mean|              9.5|        NULL|\n",
      "| stddev|5.338539126015656|        NULL|\n",
      "|    min|                1|   Auto Loan|\n",
      "|    max|               18|Student Loan|\n",
      "+-------+-----------------+------------+\n",
      "\n"
     ]
    }
   ],
   "source": [
    "print(\"Number of customers:\", customers_df.count())\n",
    "print(\"Number of loans:\", loan_type_df.count())\n",
    "\n",
    "# Get basic statistics for numerical columns\n",
    "customers_df.describe().show()\n",
    "loan_type_df.describe().show()"
   ]
  },
  {
   "cell_type": "code",
   "execution_count": 14,
   "id": "786b5d93",
   "metadata": {},
   "outputs": [
    {
     "data": {
      "text/plain": [
       "DataFrame[Loan_Type_ID: int, Type_of_Loan: string]"
      ]
     },
     "execution_count": 14,
     "metadata": {},
     "output_type": "execute_result"
    }
   ],
   "source": [
    "customers_df.select(\"Loan_Type_ID\",\"Type_of_Loan\")"
   ]
  },
  {
   "cell_type": "code",
   "execution_count": 15,
   "id": "64e32f30",
   "metadata": {},
   "outputs": [
    {
     "name": "stdout",
     "output_type": "stream",
     "text": [
      "['Loan_Type_ID', 'Type_of_Loan']\n",
      "['Loan_Type_ID', 'Type_of_Loan']\n"
     ]
    }
   ],
   "source": [
    "print(customers_df.columns)\n",
    "print(loan_type_df.columns)"
   ]
  },
  {
   "cell_type": "markdown",
   "id": "f0c65fbb",
   "metadata": {},
   "source": [
    "# Select all loan types:\n"
   ]
  },
  {
   "cell_type": "code",
   "execution_count": 16,
   "id": "7b95d568",
   "metadata": {},
   "outputs": [
    {
     "name": "stdout",
     "output_type": "stream",
     "text": [
      "+------------+--------------------+\n",
      "|Loan_Type_ID|        Type_of_Loan|\n",
      "+------------+--------------------+\n",
      "|           1|           Auto Loan|\n",
      "|           2| Credit-Builder Loan|\n",
      "|           3|       Personal Loan|\n",
      "|           4|    Home Equity Loan|\n",
      "|           5|       Not Specified|\n",
      "|           6|       Not Specified|\n",
      "|           7|       Mortgage Loan|\n",
      "|           8|        Student Loan|\n",
      "|           9|Debt Consolidatio...|\n",
      "|          10|           Auto Loan|\n",
      "|          11|         Payday Loan|\n",
      "|          12|         Payday Loan|\n",
      "|          13|        Student Loan|\n",
      "|          14|       Personal Loan|\n",
      "|          15|    Home Equity Loan|\n",
      "|          16|       Mortgage Loan|\n",
      "|          17|Debt Consolidatio...|\n",
      "|          18| Credit-Builder Loan|\n",
      "+------------+--------------------+\n",
      "\n"
     ]
    }
   ],
   "source": [
    "loan_types = loan_type_df.select(\"*\")\n",
    "loan_types.show()"
   ]
  },
  {
   "cell_type": "markdown",
   "id": "87df9713",
   "metadata": {},
   "source": [
    "# Count the number of loan types:"
   ]
  },
  {
   "cell_type": "code",
   "execution_count": 17,
   "id": "6060d5d1",
   "metadata": {},
   "outputs": [
    {
     "name": "stdout",
     "output_type": "stream",
     "text": [
      "18\n"
     ]
    }
   ],
   "source": [
    "loan_type_count = loan_type_df.count()\n",
    "print(loan_type_count)"
   ]
  },
  {
   "cell_type": "markdown",
   "id": "0b0c6ce4",
   "metadata": {},
   "source": [
    "# Find the average annual income of customers:"
   ]
  },
  {
   "cell_type": "code",
   "execution_count": 18,
   "id": "0cd41b2f",
   "metadata": {},
   "outputs": [
    {
     "name": "stdout",
     "output_type": "stream",
     "text": [
      "Average Annual Income: $176,415.70\n"
     ]
    }
   ],
   "source": [
    "avg_annual_income = customer_financials_df.agg({\"Annual_Income\": \"avg\"}).collect()[0][0]\n",
    "print(f\"Average Annual Income: ${avg_annual_income:,.2f}\")"
   ]
  },
  {
   "cell_type": "markdown",
   "id": "be7eed34",
   "metadata": {},
   "source": [
    "# Find the total outstanding debt for each customer:\n"
   ]
  },
  {
   "cell_type": "code",
   "execution_count": 21,
   "id": "33915df8",
   "metadata": {},
   "outputs": [
    {
     "name": "stdout",
     "output_type": "stream",
     "text": [
      "+-----------+---------------------+\n",
      "|Customer_ID|sum(Outstanding_Debt)|\n",
      "+-----------+---------------------+\n",
      "|       8638|    63075.59999999995|\n",
      "|      26623|             298214.4|\n",
      "|       8086|    5293.440000000001|\n",
      "|      40653|   15527.040000000014|\n",
      "|       4900|   108120.32000000008|\n",
      "|      39161|   100794.24000000015|\n",
      "|      25227|   29512.320000000014|\n",
      "|       2811|    88500.48000000011|\n",
      "|      26936|    55160.56000000002|\n",
      "|      19758|    95795.20000000011|\n",
      "|      22970|     67093.7599999999|\n",
      "|      19669|    46773.75999999994|\n",
      "|      12006|    60421.19999999994|\n",
      "|       7387|    60407.04000000003|\n",
      "|      50021|    92567.67999999996|\n",
      "|       8257|    9934.079999999996|\n",
      "|      30617|             67211.52|\n",
      "|      12393|    50924.16000000003|\n",
      "|      50320|    9777.280000000015|\n",
      "|      14324|   124728.32000000011|\n",
      "+-----------+---------------------+\n",
      "only showing top 20 rows\n",
      "\n"
     ]
    }
   ],
   "source": [
    "total_debt_per_customer = customer_financials_df.groupBy(\"Customer_ID\").agg({\"Outstanding_Debt\": \"sum\"})\n",
    "total_debt_per_customer.show()"
   ]
  },
  {
   "cell_type": "markdown",
   "id": "bfeee459",
   "metadata": {},
   "source": [
    "# Find customers with an annual income greater than $50,000:"
   ]
  },
  {
   "cell_type": "code",
   "execution_count": 23,
   "id": "ff1ef58c",
   "metadata": {},
   "outputs": [
    {
     "name": "stdout",
     "output_type": "stream",
     "text": [
      "+-----------+-------------+---------------------+------------+\n",
      "|Customer_ID|Annual_Income|Monthly_Inhand_Salary|Credit_Score|\n",
      "+-----------+-------------+---------------------+------------+\n",
      "|11708      |143162.64    |12187.22             |Good        |\n",
      "|11708      |143162.64    |12187.22             |Good        |\n",
      "|11708      |143162.64    |12187.22             |Good        |\n",
      "|11708      |143162.64    |12187.22             |Good        |\n",
      "|11708      |143162.64    |12187.22             |Good        |\n",
      "|11708      |143162.64    |12187.22             |Good        |\n",
      "|11708      |143162.64    |12187.22             |Good        |\n",
      "|11708      |143162.64    |12187.22             |Good        |\n",
      "|11708      |143162.64    |12187.22             |Good        |\n",
      "|11708      |143162.64    |12187.22             |Good        |\n",
      "|11708      |143162.64    |12187.22             |Good        |\n",
      "|11708      |143162.64    |12187.22             |Good        |\n",
      "|11708      |143162.64    |12187.22             |Good        |\n",
      "|11708      |143162.64    |12187.22             |Good        |\n",
      "|11708      |143162.64    |12187.22             |Good        |\n",
      "|11708      |143162.64    |12187.22             |Good        |\n",
      "|11708      |143162.64    |3093.745000000001    |Good        |\n",
      "|11708      |143162.64    |3093.745000000001    |Good        |\n",
      "|11708      |143162.64    |3093.745000000001    |Good        |\n",
      "|11708      |143162.64    |3093.745000000001    |Good        |\n",
      "+-----------+-------------+---------------------+------------+\n",
      "only showing top 20 rows\n",
      "\n"
     ]
    }
   ],
   "source": [
    "high_income_customers = customer_financials_df.filter(customer_financials_df.Annual_Income > 50000) \\\n",
    "                                              .select(\"Customer_ID\", \"Annual_Income\", \"Monthly_Inhand_Salary\", \"Credit_Score\")\n",
    "high_income_customers.show(truncate=False)"
   ]
  },
  {
   "cell_type": "markdown",
   "id": "e2f02243",
   "metadata": {},
   "source": [
    "#  Find the total outstanding debt for each customer\n"
   ]
  },
  {
   "cell_type": "code",
   "execution_count": 24,
   "id": "2f21ce27",
   "metadata": {},
   "outputs": [
    {
     "data": {
      "text/html": [
       "<div>\n",
       "<style scoped>\n",
       "    .dataframe tbody tr th:only-of-type {\n",
       "        vertical-align: middle;\n",
       "    }\n",
       "\n",
       "    .dataframe tbody tr th {\n",
       "        vertical-align: top;\n",
       "    }\n",
       "\n",
       "    .dataframe thead th {\n",
       "        text-align: right;\n",
       "    }\n",
       "</style>\n",
       "<table border=\"1\" class=\"dataframe\">\n",
       "  <thead>\n",
       "    <tr style=\"text-align: right;\">\n",
       "      <th></th>\n",
       "      <th>Customer_ID</th>\n",
       "      <th>sum(Outstanding_Debt)</th>\n",
       "    </tr>\n",
       "  </thead>\n",
       "  <tbody>\n",
       "    <tr>\n",
       "      <th>0</th>\n",
       "      <td>8638</td>\n",
       "      <td>63075.60</td>\n",
       "    </tr>\n",
       "    <tr>\n",
       "      <th>1</th>\n",
       "      <td>26623</td>\n",
       "      <td>298214.40</td>\n",
       "    </tr>\n",
       "    <tr>\n",
       "      <th>2</th>\n",
       "      <td>8086</td>\n",
       "      <td>5293.44</td>\n",
       "    </tr>\n",
       "    <tr>\n",
       "      <th>3</th>\n",
       "      <td>40653</td>\n",
       "      <td>15527.04</td>\n",
       "    </tr>\n",
       "    <tr>\n",
       "      <th>4</th>\n",
       "      <td>4900</td>\n",
       "      <td>108120.32</td>\n",
       "    </tr>\n",
       "    <tr>\n",
       "      <th>...</th>\n",
       "      <td>...</td>\n",
       "      <td>...</td>\n",
       "    </tr>\n",
       "    <tr>\n",
       "      <th>12495</th>\n",
       "      <td>36480</td>\n",
       "      <td>163749.12</td>\n",
       "    </tr>\n",
       "    <tr>\n",
       "      <th>12496</th>\n",
       "      <td>16596</td>\n",
       "      <td>30599.04</td>\n",
       "    </tr>\n",
       "    <tr>\n",
       "      <th>12497</th>\n",
       "      <td>29854</td>\n",
       "      <td>125550.72</td>\n",
       "    </tr>\n",
       "    <tr>\n",
       "      <th>12498</th>\n",
       "      <td>7874</td>\n",
       "      <td>281906.56</td>\n",
       "    </tr>\n",
       "    <tr>\n",
       "      <th>12499</th>\n",
       "      <td>34347</td>\n",
       "      <td>90703.36</td>\n",
       "    </tr>\n",
       "  </tbody>\n",
       "</table>\n",
       "<p>12500 rows × 2 columns</p>\n",
       "</div>"
      ],
      "text/plain": [
       "       Customer_ID  sum(Outstanding_Debt)\n",
       "0             8638               63075.60\n",
       "1            26623              298214.40\n",
       "2             8086                5293.44\n",
       "3            40653               15527.04\n",
       "4             4900              108120.32\n",
       "...            ...                    ...\n",
       "12495        36480              163749.12\n",
       "12496        16596               30599.04\n",
       "12497        29854              125550.72\n",
       "12498         7874              281906.56\n",
       "12499        34347               90703.36\n",
       "\n",
       "[12500 rows x 2 columns]"
      ]
     },
     "metadata": {},
     "output_type": "display_data"
    }
   ],
   "source": [
    "total_debt_per_customer = customer_financials_df.groupBy(\"Customer_ID\").agg({\"Outstanding_Debt\": \"sum\"})\n",
    "display(total_debt_per_customer.toPandas())"
   ]
  },
  {
   "cell_type": "markdown",
   "id": "54f44616",
   "metadata": {},
   "source": [
    "# Filter customers who have delayed payment more than 5 times:"
   ]
  },
  {
   "cell_type": "code",
   "execution_count": 25,
   "id": "6d392eb6",
   "metadata": {},
   "outputs": [
    {
     "data": {
      "text/html": [
       "<div>\n",
       "<style scoped>\n",
       "    .dataframe tbody tr th:only-of-type {\n",
       "        vertical-align: middle;\n",
       "    }\n",
       "\n",
       "    .dataframe tbody tr th {\n",
       "        vertical-align: top;\n",
       "    }\n",
       "\n",
       "    .dataframe thead th {\n",
       "        text-align: right;\n",
       "    }\n",
       "</style>\n",
       "<table border=\"1\" class=\"dataframe\">\n",
       "  <thead>\n",
       "    <tr style=\"text-align: right;\">\n",
       "      <th></th>\n",
       "      <th>Customer_ID</th>\n",
       "      <th>Num_of_Delayed_Payment</th>\n",
       "      <th>Credit_Score</th>\n",
       "    </tr>\n",
       "  </thead>\n",
       "  <tbody>\n",
       "    <tr>\n",
       "      <th>0</th>\n",
       "      <td>3392</td>\n",
       "      <td>7.0</td>\n",
       "      <td>Good</td>\n",
       "    </tr>\n",
       "    <tr>\n",
       "      <th>1</th>\n",
       "      <td>3392</td>\n",
       "      <td>7.0</td>\n",
       "      <td>Good</td>\n",
       "    </tr>\n",
       "    <tr>\n",
       "      <th>2</th>\n",
       "      <td>3392</td>\n",
       "      <td>7.0</td>\n",
       "      <td>Good</td>\n",
       "    </tr>\n",
       "    <tr>\n",
       "      <th>3</th>\n",
       "      <td>3392</td>\n",
       "      <td>7.0</td>\n",
       "      <td>Good</td>\n",
       "    </tr>\n",
       "    <tr>\n",
       "      <th>4</th>\n",
       "      <td>3392</td>\n",
       "      <td>7.0</td>\n",
       "      <td>Good</td>\n",
       "    </tr>\n",
       "    <tr>\n",
       "      <th>...</th>\n",
       "      <td>...</td>\n",
       "      <td>...</td>\n",
       "      <td>...</td>\n",
       "    </tr>\n",
       "    <tr>\n",
       "      <th>710299</th>\n",
       "      <td>37932</td>\n",
       "      <td>6.0</td>\n",
       "      <td>Poor</td>\n",
       "    </tr>\n",
       "    <tr>\n",
       "      <th>710300</th>\n",
       "      <td>37932</td>\n",
       "      <td>6.0</td>\n",
       "      <td>Poor</td>\n",
       "    </tr>\n",
       "    <tr>\n",
       "      <th>710301</th>\n",
       "      <td>37932</td>\n",
       "      <td>6.0</td>\n",
       "      <td>Poor</td>\n",
       "    </tr>\n",
       "    <tr>\n",
       "      <th>710302</th>\n",
       "      <td>37932</td>\n",
       "      <td>6.0</td>\n",
       "      <td>Poor</td>\n",
       "    </tr>\n",
       "    <tr>\n",
       "      <th>710303</th>\n",
       "      <td>37932</td>\n",
       "      <td>6.0</td>\n",
       "      <td>Poor</td>\n",
       "    </tr>\n",
       "  </tbody>\n",
       "</table>\n",
       "<p>710304 rows × 3 columns</p>\n",
       "</div>"
      ],
      "text/plain": [
       "        Customer_ID  Num_of_Delayed_Payment Credit_Score\n",
       "0              3392                     7.0         Good\n",
       "1              3392                     7.0         Good\n",
       "2              3392                     7.0         Good\n",
       "3              3392                     7.0         Good\n",
       "4              3392                     7.0         Good\n",
       "...             ...                     ...          ...\n",
       "710299        37932                     6.0         Poor\n",
       "710300        37932                     6.0         Poor\n",
       "710301        37932                     6.0         Poor\n",
       "710302        37932                     6.0         Poor\n",
       "710303        37932                     6.0         Poor\n",
       "\n",
       "[710304 rows x 3 columns]"
      ]
     },
     "metadata": {},
     "output_type": "display_data"
    }
   ],
   "source": [
    "delayed_customers = customer_financials_df.filter(customer_financials_df.Num_of_Delayed_Payment > 5)\n",
    "display(delayed_customers.select(\"Customer_ID\", \"Num_of_Delayed_Payment\", \"Credit_Score\").toPandas())"
   ]
  },
  {
   "cell_type": "markdown",
   "id": "dab670bf",
   "metadata": {},
   "source": [
    "# Join customer_financials_df with loan_type_df to get Loan Type"
   ]
  },
  {
   "cell_type": "code",
   "execution_count": 27,
   "id": "b3891ee8",
   "metadata": {},
   "outputs": [
    {
     "name": "stdout",
     "output_type": "stream",
     "text": [
      "+-------------------+------------+-----------+\n",
      "|       Type_of_Loan|Credit_Score|Num_of_Loan|\n",
      "+-------------------+------------+-----------+\n",
      "|   Home Equity Loan|        Good|          4|\n",
      "|   Home Equity Loan|        Good|          4|\n",
      "|      Personal Loan|        Good|          4|\n",
      "|      Personal Loan|        Good|          4|\n",
      "|Credit-Builder Loan|        Good|          4|\n",
      "|Credit-Builder Loan|        Good|          4|\n",
      "|          Auto Loan|        Good|          4|\n",
      "|          Auto Loan|        Good|          4|\n",
      "|   Home Equity Loan|        Good|          4|\n",
      "|   Home Equity Loan|        Good|          4|\n",
      "|      Personal Loan|        Good|          4|\n",
      "|      Personal Loan|        Good|          4|\n",
      "|Credit-Builder Loan|        Good|          4|\n",
      "|Credit-Builder Loan|        Good|          4|\n",
      "|          Auto Loan|        Good|          4|\n",
      "|          Auto Loan|        Good|          4|\n",
      "|   Home Equity Loan|        Good|          4|\n",
      "|   Home Equity Loan|        Good|          4|\n",
      "|      Personal Loan|        Good|          4|\n",
      "|      Personal Loan|        Good|          4|\n",
      "+-------------------+------------+-----------+\n",
      "only showing top 20 rows\n",
      "\n"
     ]
    }
   ],
   "source": [
    "# Join the customer_financials_df with the bridge_cust_loan_df to get the Loan_Type_ID\n",
    "loan_credit_data = customer_financials_df.join(bridge_cust_loan_df, \"Customer_ID\", \"inner\") \\\n",
    "                                         .join(loan_type_df, \"Loan_Type_ID\", \"inner\") \\\n",
    "                                         .select(\"Type_of_Loan\", \"Credit_Score\", \"Num_of_Loan\")\n",
    "\n",
    "loan_credit_data.show()"
   ]
  },
  {
   "cell_type": "markdown",
   "id": "579147bb",
   "metadata": {},
   "source": [
    "# Filter Customers with Poor Credit Score"
   ]
  },
  {
   "cell_type": "code",
   "execution_count": 29,
   "id": "ae624563",
   "metadata": {},
   "outputs": [
    {
     "name": "stdout",
     "output_type": "stream",
     "text": [
      "+-------------+------------+-----------+\n",
      "| Type_of_Loan|Credit_Score|Num_of_Loan|\n",
      "+-------------+------------+-----------+\n",
      "| Student Loan|        Poor|          3|\n",
      "| Student Loan|        Poor|          3|\n",
      "|    Auto Loan|        Poor|          3|\n",
      "|    Auto Loan|        Poor|          3|\n",
      "|Not Specified|        Poor|          3|\n",
      "|Not Specified|        Poor|          3|\n",
      "| Student Loan|        Poor|          3|\n",
      "| Student Loan|        Poor|          3|\n",
      "|    Auto Loan|        Poor|          3|\n",
      "|    Auto Loan|        Poor|          3|\n",
      "|Not Specified|        Poor|          3|\n",
      "|Not Specified|        Poor|          3|\n",
      "| Student Loan|        Poor|          3|\n",
      "| Student Loan|        Poor|          3|\n",
      "|    Auto Loan|        Poor|          3|\n",
      "|    Auto Loan|        Poor|          3|\n",
      "|Not Specified|        Poor|          3|\n",
      "|Not Specified|        Poor|          3|\n",
      "| Student Loan|        Poor|          3|\n",
      "| Student Loan|        Poor|          3|\n",
      "+-------------+------------+-----------+\n",
      "only showing top 20 rows\n",
      "\n"
     ]
    }
   ],
   "source": [
    "poor_credit_customers = loan_credit_joined.filter(loan_credit_joined.Credit_Score == \"Poor\")\n",
    "poor_credit_customers.show()"
   ]
  },
  {
   "cell_type": "markdown",
   "id": "3c15a11c",
   "metadata": {},
   "source": [
    "# Count Customers by Loan Type and Credit Score"
   ]
  },
  {
   "cell_type": "code",
   "execution_count": 30,
   "id": "c9236bfc",
   "metadata": {},
   "outputs": [
    {
     "name": "stdout",
     "output_type": "stream",
     "text": [
      "+--------------------+------------+-------+\n",
      "|        Type_of_Loan|Credit_Score|  count|\n",
      "+--------------------+------------+-------+\n",
      "|Debt Consolidatio...|        Good| 529280|\n",
      "|       Not Specified|        Poor|2135296|\n",
      "|    Home Equity Loan|        Good| 556544|\n",
      "|           Auto Loan|        Poor|1916160|\n",
      "|       Mortgage Loan|        Good| 558720|\n",
      "|       Mortgage Loan|        Poor|1947264|\n",
      "|       Personal Loan|        Good| 533120|\n",
      "|        Student Loan|        Poor|1970176|\n",
      "|       Personal Loan|    Standard|2524160|\n",
      "| Credit-Builder Loan|    Standard|2589696|\n",
      "|    Home Equity Loan|    Standard|2509056|\n",
      "|       Mortgage Loan|    Standard|2477824|\n",
      "| Credit-Builder Loan|        Poor|2005120|\n",
      "|Debt Consolidatio...|        Poor|1951232|\n",
      "|        Student Loan|    Standard|2438784|\n",
      "|         Payday Loan|    Standard|2581760|\n",
      "|       Not Specified|    Standard|3364352|\n",
      "|           Auto Loan|        Good| 523392|\n",
      "|Debt Consolidatio...|    Standard|2482816|\n",
      "|         Payday Loan|        Good| 573184|\n",
      "+--------------------+------------+-------+\n",
      "only showing top 20 rows\n",
      "\n"
     ]
    }
   ],
   "source": [
    "loan_credit_grouped = loan_credit_joined.groupBy(\"Type_of_Loan\", \"Credit_Score\").count()\n",
    "loan_credit_grouped.show()"
   ]
  },
  {
   "cell_type": "markdown",
   "id": "5f0c9266",
   "metadata": {},
   "source": [
    "# Find Average Number of Loans per Customer Based on Loan Type and Credit Score"
   ]
  },
  {
   "cell_type": "code",
   "execution_count": 31,
   "id": "3bbb11e5",
   "metadata": {},
   "outputs": [
    {
     "name": "stdout",
     "output_type": "stream",
     "text": [
      "+--------------------+------------+------------------+\n",
      "|        Type_of_Loan|Credit_Score|  avg(Num_of_Loan)|\n",
      "+--------------------+------------+------------------+\n",
      "|Debt Consolidatio...|        Good|3.9901639344262296|\n",
      "|       Not Specified|        Poor|  4.70413940613991|\n",
      "|    Home Equity Loan|        Good| 2.227305562244161|\n",
      "|           Auto Loan|        Poor| 4.625508914783097|\n",
      "|       Mortgage Loan|        Good| 5.600432484382509|\n",
      "|       Mortgage Loan|        Poor| 4.493277252982142|\n",
      "|       Personal Loan|        Good|2.6077097505668934|\n",
      "|        Student Loan|        Poor| 5.073265836639759|\n",
      "|       Personal Loan|    Standard| 3.213100762788713|\n",
      "| Credit-Builder Loan|    Standard| 4.240213892638355|\n",
      "|    Home Equity Loan|    Standard|  3.76654362595624|\n",
      "|       Mortgage Loan|    Standard| 4.583224896985469|\n",
      "| Credit-Builder Loan|        Poor| 4.529675777063237|\n",
      "|Debt Consolidatio...|        Poor| 4.753281561404714|\n",
      "|        Student Loan|    Standard|3.6352733101199357|\n",
      "|         Payday Loan|    Standard|3.9307956675692566|\n",
      "|       Not Specified|    Standard| 3.634358769476628|\n",
      "|           Auto Loan|        Good| 4.995136933708728|\n",
      "|Debt Consolidatio...|    Standard| 3.817280069380454|\n",
      "|         Payday Loan|        Good| 3.143256464011181|\n",
      "+--------------------+------------+------------------+\n",
      "only showing top 20 rows\n",
      "\n"
     ]
    }
   ],
   "source": [
    "avg_num_loans = loan_credit_joined.groupBy(\"Type_of_Loan\", \"Credit_Score\") \\\n",
    "                                  .agg({\"Num_of_Loan\": \"avg\"})\n",
    "avg_num_loans.show()"
   ]
  },
  {
   "cell_type": "markdown",
   "id": "5f437084",
   "metadata": {},
   "source": [
    "# Select Customers with More than 3 Loans"
   ]
  },
  {
   "cell_type": "code",
   "execution_count": 32,
   "id": "a7a24243",
   "metadata": {},
   "outputs": [
    {
     "name": "stdout",
     "output_type": "stream",
     "text": [
      "+-------------------+------------+-----------+\n",
      "|       Type_of_Loan|Credit_Score|Num_of_Loan|\n",
      "+-------------------+------------+-----------+\n",
      "|   Home Equity Loan|        Good|          4|\n",
      "|   Home Equity Loan|        Good|          4|\n",
      "|      Personal Loan|        Good|          4|\n",
      "|      Personal Loan|        Good|          4|\n",
      "|Credit-Builder Loan|        Good|          4|\n",
      "|Credit-Builder Loan|        Good|          4|\n",
      "|          Auto Loan|        Good|          4|\n",
      "|          Auto Loan|        Good|          4|\n",
      "|   Home Equity Loan|        Good|          4|\n",
      "|   Home Equity Loan|        Good|          4|\n",
      "|      Personal Loan|        Good|          4|\n",
      "|      Personal Loan|        Good|          4|\n",
      "|Credit-Builder Loan|        Good|          4|\n",
      "|Credit-Builder Loan|        Good|          4|\n",
      "|          Auto Loan|        Good|          4|\n",
      "|          Auto Loan|        Good|          4|\n",
      "|   Home Equity Loan|        Good|          4|\n",
      "|   Home Equity Loan|        Good|          4|\n",
      "|      Personal Loan|        Good|          4|\n",
      "|      Personal Loan|        Good|          4|\n",
      "+-------------------+------------+-----------+\n",
      "only showing top 20 rows\n",
      "\n"
     ]
    }
   ],
   "source": [
    "many_loans_customers = loan_credit_joined.filter(loan_credit_joined.Num_of_Loan > 3)\n",
    "many_loans_customers.show()"
   ]
  },
  {
   "cell_type": "markdown",
   "id": "a4990421",
   "metadata": {},
   "source": [
    "# Select Unique Loan Types"
   ]
  },
  {
   "cell_type": "code",
   "execution_count": 33,
   "id": "8427c4bc",
   "metadata": {},
   "outputs": [
    {
     "name": "stdout",
     "output_type": "stream",
     "text": [
      "+--------------------+\n",
      "|        Type_of_Loan|\n",
      "+--------------------+\n",
      "|    Home Equity Loan|\n",
      "|         Payday Loan|\n",
      "|       Personal Loan|\n",
      "|Debt Consolidatio...|\n",
      "|       Mortgage Loan|\n",
      "|        Student Loan|\n",
      "| Credit-Builder Loan|\n",
      "|           Auto Loan|\n",
      "|       Not Specified|\n",
      "+--------------------+\n",
      "\n"
     ]
    }
   ],
   "source": [
    "unique_loan_types = loan_credit_joined.select(\"Type_of_Loan\").distinct()\n",
    "unique_loan_types.show()"
   ]
  },
  {
   "cell_type": "markdown",
   "id": "4306245c",
   "metadata": {},
   "source": [
    "# Calculate Total Number of Loans for Each Loan Type"
   ]
  },
  {
   "cell_type": "code",
   "execution_count": 34,
   "id": "e7ee7f5d",
   "metadata": {},
   "outputs": [
    {
     "name": "stdout",
     "output_type": "stream",
     "text": [
      "+--------------------+----------------+\n",
      "|        Type_of_Loan|sum(Num_of_Loan)|\n",
      "+--------------------+----------------+\n",
      "|    Home Equity Loan|     1.8938624E7|\n",
      "|         Payday Loan|     2.0531328E7|\n",
      "|       Personal Loan|     1.9558528E7|\n",
      "|Debt Consolidatio...|     1.9892608E7|\n",
      "|       Mortgage Loan|     2.2145024E7|\n",
      "|        Student Loan|     1.9220992E7|\n",
      "| Credit-Builder Loan|     2.0587264E7|\n",
      "|           Auto Loan|     2.0604032E7|\n",
      "|       Not Specified|     2.2457216E7|\n",
      "+--------------------+----------------+\n",
      "\n"
     ]
    }
   ],
   "source": [
    "total_loans_by_type = loan_credit_joined.groupBy(\"Type_of_Loan\") \\\n",
    "                                        .agg({\"Num_of_Loan\": \"sum\"})\n",
    "total_loans_by_type.show()"
   ]
  },
  {
   "cell_type": "markdown",
   "id": "ae0d5c36",
   "metadata": {},
   "source": [
    "# Sort Customers by Number of Loans in Descending Order"
   ]
  },
  {
   "cell_type": "code",
   "execution_count": 35,
   "id": "341378f6",
   "metadata": {},
   "outputs": [
    {
     "name": "stdout",
     "output_type": "stream",
     "text": [
      "+--------------------+------------+-----------+\n",
      "|        Type_of_Loan|Credit_Score|Num_of_Loan|\n",
      "+--------------------+------------+-----------+\n",
      "|        Student Loan|    Standard|         9_|\n",
      "|         Payday Loan|    Standard|         9_|\n",
      "|         Payday Loan|        Poor|         9_|\n",
      "|Debt Consolidatio...|    Standard|         9_|\n",
      "|Debt Consolidatio...|        Poor|         9_|\n",
      "|         Payday Loan|    Standard|         9_|\n",
      "| Credit-Builder Loan|        Poor|         9_|\n",
      "|Debt Consolidatio...|    Standard|         9_|\n",
      "|       Personal Loan|        Poor|         9_|\n",
      "|Debt Consolidatio...|    Standard|         9_|\n",
      "|         Payday Loan|        Poor|         9_|\n",
      "|    Home Equity Loan|    Standard|         9_|\n",
      "|       Personal Loan|        Poor|         9_|\n",
      "|    Home Equity Loan|    Standard|         9_|\n",
      "| Credit-Builder Loan|        Poor|         9_|\n",
      "|       Mortgage Loan|    Standard|         9_|\n",
      "|       Personal Loan|    Standard|         9_|\n",
      "|       Mortgage Loan|    Standard|         9_|\n",
      "| Credit-Builder Loan|        Poor|         9_|\n",
      "|       Personal Loan|    Standard|         9_|\n",
      "+--------------------+------------+-----------+\n",
      "only showing top 20 rows\n",
      "\n"
     ]
    }
   ],
   "source": [
    "sorted_loans_customers = loan_credit_joined.orderBy(loan_credit_joined.Num_of_Loan.desc())\n",
    "sorted_loans_customers.show()"
   ]
  },
  {
   "cell_type": "markdown",
   "id": "17ee66ff",
   "metadata": {},
   "source": [
    "# Count Number of Customers in Each Credit Score Category"
   ]
  },
  {
   "cell_type": "code",
   "execution_count": 36,
   "id": "12a6466c",
   "metadata": {},
   "outputs": [
    {
     "name": "stdout",
     "output_type": "stream",
     "text": [
      "+------------+--------+\n",
      "|Credit_Score|   count|\n",
      "+------------+--------+\n",
      "|        Good| 5466112|\n",
      "|        Poor|17823104|\n",
      "|    Standard|23391872|\n",
      "+------------+--------+\n",
      "\n"
     ]
    }
   ],
   "source": [
    "credit_score_counts = loan_credit_joined.groupBy(\"Credit_Score\").count()\n",
    "credit_score_counts.show()"
   ]
  },
  {
   "cell_type": "markdown",
   "id": "f7d17a99",
   "metadata": {},
   "source": [
    "# Select Customers with a Specific Loan Type 'Mortgage'"
   ]
  },
  {
   "cell_type": "code",
   "execution_count": 37,
   "id": "f0721ede",
   "metadata": {},
   "outputs": [
    {
     "name": "stdout",
     "output_type": "stream",
     "text": [
      "+------------+------------+-----------+\n",
      "|Type_of_Loan|Credit_Score|Num_of_Loan|\n",
      "+------------+------------+-----------+\n",
      "+------------+------------+-----------+\n",
      "\n"
     ]
    }
   ],
   "source": [
    "mortgage_customers = loan_credit_joined.filter(loan_credit_joined.Type_of_Loan == \"Mortgage\")\n",
    "mortgage_customers.show()"
   ]
  },
  {
   "cell_type": "markdown",
   "id": "d43ac47e",
   "metadata": {},
   "source": [
    "#  Identify Customers with the Highest Number of Loans"
   ]
  },
  {
   "cell_type": "code",
   "execution_count": 38,
   "id": "d02a96e6",
   "metadata": {},
   "outputs": [
    {
     "name": "stdout",
     "output_type": "stream",
     "text": [
      "+----------------+\n",
      "|max(Num_of_Loan)|\n",
      "+----------------+\n",
      "|              9_|\n",
      "+----------------+\n",
      "\n"
     ]
    }
   ],
   "source": [
    "max_loans = loan_credit_joined.agg({\"Num_of_Loan\": \"max\"})\n",
    "max_loans.show()\n"
   ]
  },
  {
   "cell_type": "markdown",
   "id": "921ffca3",
   "metadata": {},
   "source": [
    "# Filter Out Customers with Null Values in Num_of_Loan "
   ]
  },
  {
   "cell_type": "code",
   "execution_count": 39,
   "id": "0993ef0c",
   "metadata": {},
   "outputs": [
    {
     "name": "stdout",
     "output_type": "stream",
     "text": [
      "+-------------------+------------+-----------+\n",
      "|       Type_of_Loan|Credit_Score|Num_of_Loan|\n",
      "+-------------------+------------+-----------+\n",
      "|   Home Equity Loan|        Good|          4|\n",
      "|   Home Equity Loan|        Good|          4|\n",
      "|      Personal Loan|        Good|          4|\n",
      "|      Personal Loan|        Good|          4|\n",
      "|Credit-Builder Loan|        Good|          4|\n",
      "|Credit-Builder Loan|        Good|          4|\n",
      "|          Auto Loan|        Good|          4|\n",
      "|          Auto Loan|        Good|          4|\n",
      "|   Home Equity Loan|        Good|          4|\n",
      "|   Home Equity Loan|        Good|          4|\n",
      "|      Personal Loan|        Good|          4|\n",
      "|      Personal Loan|        Good|          4|\n",
      "|Credit-Builder Loan|        Good|          4|\n",
      "|Credit-Builder Loan|        Good|          4|\n",
      "|          Auto Loan|        Good|          4|\n",
      "|          Auto Loan|        Good|          4|\n",
      "|   Home Equity Loan|        Good|          4|\n",
      "|   Home Equity Loan|        Good|          4|\n",
      "|      Personal Loan|        Good|          4|\n",
      "|      Personal Loan|        Good|          4|\n",
      "+-------------------+------------+-----------+\n",
      "only showing top 20 rows\n",
      "\n"
     ]
    }
   ],
   "source": [
    "non_null_loans = loan_credit_joined.filter(loan_credit_joined.Num_of_Loan.isNotNull())\n",
    "non_null_loans.show()"
   ]
  },
  {
   "cell_type": "markdown",
   "id": "df58d293",
   "metadata": {},
   "source": [
    "# Calculate the Average Credit Score per Loan Type"
   ]
  },
  {
   "cell_type": "code",
   "execution_count": 40,
   "id": "bf803b74",
   "metadata": {},
   "outputs": [
    {
     "name": "stdout",
     "output_type": "stream",
     "text": [
      "+--------------------+-----------------+\n",
      "|        Type_of_Loan|avg(Credit_Score)|\n",
      "+--------------------+-----------------+\n",
      "|    Home Equity Loan|             NULL|\n",
      "|         Payday Loan|             NULL|\n",
      "|       Personal Loan|             NULL|\n",
      "|Debt Consolidatio...|             NULL|\n",
      "|       Mortgage Loan|             NULL|\n",
      "|        Student Loan|             NULL|\n",
      "| Credit-Builder Loan|             NULL|\n",
      "|           Auto Loan|             NULL|\n",
      "|       Not Specified|             NULL|\n",
      "+--------------------+-----------------+\n",
      "\n"
     ]
    }
   ],
   "source": [
    "avg_credit_score = loan_credit_joined.groupBy(\"Type_of_Loan\") \\\n",
    "                                     .agg({\"Credit_Score\": \"avg\"})\n",
    "avg_credit_score.show()"
   ]
  },
  {
   "cell_type": "markdown",
   "id": "adafcc03",
   "metadata": {},
   "source": [
    "# Select Only Customers with Good or Excellent Credit Scores\n"
   ]
  },
  {
   "cell_type": "code",
   "execution_count": 41,
   "id": "eddb2e25",
   "metadata": {},
   "outputs": [
    {
     "name": "stdout",
     "output_type": "stream",
     "text": [
      "+-------------------+------------+-----------+\n",
      "|       Type_of_Loan|Credit_Score|Num_of_Loan|\n",
      "+-------------------+------------+-----------+\n",
      "|   Home Equity Loan|        Good|          4|\n",
      "|   Home Equity Loan|        Good|          4|\n",
      "|      Personal Loan|        Good|          4|\n",
      "|      Personal Loan|        Good|          4|\n",
      "|Credit-Builder Loan|        Good|          4|\n",
      "|Credit-Builder Loan|        Good|          4|\n",
      "|          Auto Loan|        Good|          4|\n",
      "|          Auto Loan|        Good|          4|\n",
      "|   Home Equity Loan|        Good|          4|\n",
      "|   Home Equity Loan|        Good|          4|\n",
      "|      Personal Loan|        Good|          4|\n",
      "|      Personal Loan|        Good|          4|\n",
      "|Credit-Builder Loan|        Good|          4|\n",
      "|Credit-Builder Loan|        Good|          4|\n",
      "|          Auto Loan|        Good|          4|\n",
      "|          Auto Loan|        Good|          4|\n",
      "|   Home Equity Loan|        Good|          4|\n",
      "|   Home Equity Loan|        Good|          4|\n",
      "|      Personal Loan|        Good|          4|\n",
      "|      Personal Loan|        Good|          4|\n",
      "+-------------------+------------+-----------+\n",
      "only showing top 20 rows\n",
      "\n"
     ]
    }
   ],
   "source": [
    "good_credit_customers = loan_credit_joined.filter(loan_credit_joined.Credit_Score.isin(\"Good\", \"Excellent\"))\n",
    "good_credit_customers.show()"
   ]
  },
  {
   "cell_type": "markdown",
   "id": "34133939",
   "metadata": {},
   "source": [
    "#  Count the Number of Distinct Loan Types"
   ]
  },
  {
   "cell_type": "code",
   "execution_count": 42,
   "id": "96334e3f",
   "metadata": {},
   "outputs": [
    {
     "name": "stdout",
     "output_type": "stream",
     "text": [
      "Number of distinct loan types: 9\n"
     ]
    }
   ],
   "source": [
    "distinct_loan_type_count = loan_credit_joined.select(\"Type_of_Loan\").distinct().count()\n",
    "print(f\"Number of distinct loan types: {distinct_loan_type_count}\")"
   ]
  },
  {
   "cell_type": "markdown",
   "id": "f3867d26",
   "metadata": {},
   "source": [
    "# Select Customers Who Have Delayed Payments and Have a Poor Credit Score"
   ]
  },
  {
   "cell_type": "code",
   "execution_count": 43,
   "id": "93e24ae9",
   "metadata": {},
   "outputs": [
    {
     "name": "stdout",
     "output_type": "stream",
     "text": [
      "+-----------+------------+-----------+\n",
      "|Customer_ID|Credit_Score|Num_of_Loan|\n",
      "+-----------+------------+-----------+\n",
      "|      21511|        Poor|          3|\n",
      "|      21511|        Poor|          3|\n",
      "|      21511|        Poor|          3|\n",
      "|      21511|        Poor|          3|\n",
      "|      21511|        Poor|          3|\n",
      "|      21511|        Poor|          3|\n",
      "|      21511|        Poor|          3|\n",
      "|      21511|        Poor|          3|\n",
      "|      21511|        Poor|          3|\n",
      "|      21511|        Poor|          3|\n",
      "|      21511|        Poor|          3|\n",
      "|      21511|        Poor|          3|\n",
      "|      21511|        Poor|          3|\n",
      "|      21511|        Poor|          3|\n",
      "|      21511|        Poor|          3|\n",
      "|      21511|        Poor|          3|\n",
      "|      21511|        Poor|          3|\n",
      "|      21511|        Poor|          3|\n",
      "|      21511|        Poor|          3|\n",
      "|      21511|        Poor|          3|\n",
      "+-----------+------------+-----------+\n",
      "only showing top 20 rows\n",
      "\n"
     ]
    }
   ],
   "source": [
    "delayed_poor_credit_customers = customer_financials_df.filter(\n",
    "    (customer_financials_df.Num_of_Delayed_Payment > 0) & \n",
    "    (customer_financials_df.Credit_Score == \"Poor\")\n",
    ").select(\"Customer_ID\", \"Credit_Score\", \"Num_of_Loan\")\n",
    "delayed_poor_credit_customers.show()"
   ]
  },
  {
   "cell_type": "markdown",
   "id": "9a9a30ff",
   "metadata": {},
   "source": [
    "# Identify Loan Types with the Most Customers"
   ]
  },
  {
   "cell_type": "code",
   "execution_count": 44,
   "id": "198bf18e",
   "metadata": {},
   "outputs": [
    {
     "name": "stdout",
     "output_type": "stream",
     "text": [
      "+--------------------+-------+\n",
      "|        Type_of_Loan|  count|\n",
      "+--------------------+-------+\n",
      "|       Not Specified|6531072|\n",
      "|         Payday Loan|5192704|\n",
      "| Credit-Builder Loan|5176320|\n",
      "|    Home Equity Loan|5005312|\n",
      "|        Student Loan|4987904|\n",
      "|       Mortgage Loan|4983808|\n",
      "|       Personal Loan|4977664|\n",
      "|Debt Consolidatio...|4963328|\n",
      "|           Auto Loan|4862976|\n",
      "+--------------------+-------+\n",
      "\n"
     ]
    }
   ],
   "source": [
    "popular_loan_types = loan_credit_joined.groupBy(\"Type_of_Loan\") \\\n",
    "                                       .count() \\\n",
    "                                       .orderBy(\"count\", ascending=False)\n",
    "popular_loan_types.show()"
   ]
  },
  {
   "cell_type": "markdown",
   "id": "4fbe6c57",
   "metadata": {},
   "source": [
    "# Calculate Sum of Loans for Each Credit Score Category"
   ]
  },
  {
   "cell_type": "code",
   "execution_count": 45,
   "id": "27a7f2a5",
   "metadata": {},
   "outputs": [
    {
     "name": "stdout",
     "output_type": "stream",
     "text": [
      "+------------+----------------+\n",
      "|Credit_Score|sum(Num_of_Loan)|\n",
      "+------------+----------------+\n",
      "|        Good|     1.5771648E7|\n",
      "|        Poor|     8.1755904E7|\n",
      "|    Standard|     8.6408064E7|\n",
      "+------------+----------------+\n",
      "\n"
     ]
    }
   ],
   "source": [
    "sum_loans_credit_score = loan_credit_joined.groupBy(\"Credit_Score\") \\\n",
    "                                           .agg({\"Num_of_Loan\": \"sum\"})\n",
    "sum_loans_credit_score.show()"
   ]
  }
 ],
 "metadata": {
  "kernelspec": {
   "display_name": "Python 3 (ipykernel)",
   "language": "python",
   "name": "python3"
  },
  "language_info": {
   "codemirror_mode": {
    "name": "ipython",
    "version": 3
   },
   "file_extension": ".py",
   "mimetype": "text/x-python",
   "name": "python",
   "nbconvert_exporter": "python",
   "pygments_lexer": "ipython3",
   "version": "3.11.5"
  }
 },
 "nbformat": 4,
 "nbformat_minor": 5
}
